{
 "cells": [
  {
   "cell_type": "code",
   "execution_count": 1,
   "metadata": {},
   "outputs": [],
   "source": [
    "import torch\n",
    "import torchvision\n",
    "from torch.utils.data import Dataset\n",
    "import numpy as np"
   ]
  },
  {
   "cell_type": "code",
   "execution_count": 2,
   "metadata": {},
   "outputs": [
    {
     "name": "stdout",
     "output_type": "stream",
     "text": [
      "<class 'numpy.ndarray'> <class 'numpy.float32'>\n"
     ]
    }
   ],
   "source": [
    "class WDataset(Dataset):\n",
    "    def __init__(self,dpath,transform=None):\n",
    "        data=np.loadtxt(dpath,delimiter=',',dtype=np.float32,skiprows=1)\n",
    "        \n",
    "        self.x=data[:,1:]\n",
    "        self.y=data[:,0]\n",
    "        self.n_sample=data.shape[0]\n",
    "        self.transform=transform\n",
    "\n",
    "    def __getitem__(self,index):\n",
    "        sample=self.x[index],self.y[index]\n",
    "        if self.transform !=None:\n",
    "            sample=self.transform(sample)\n",
    "        return sample\n",
    "    \n",
    "    def __len__(self):\n",
    "        return self.n_sample\n",
    "    \n",
    "\n",
    "class ToTensor:  \n",
    "    def __call__(self,sample):\n",
    "        inputs,labels=sample\n",
    "        return torch.tensor(inputs),torch.tensor(labels)\n",
    "    \n",
    "#Multiplication Transform\n",
    "    \n",
    "class MultTransform:\n",
    "    def __init__(self, factor):\n",
    "        self.factor=factor\n",
    "    \n",
    "    def __call__(self,sample):\n",
    "        input,target=sample\n",
    "        input*=self.factor\n",
    "        return input,target\n",
    "    \n",
    "dataset=WDataset('wine.csv',transform=None)\n",
    "firstdata=dataset[0]\n",
    "\n",
    "features,labels=firstdata\n",
    "print(type(features),type(labels))\n"
   ]
  },
  {
   "cell_type": "code",
   "execution_count": 3,
   "metadata": {},
   "outputs": [
    {
     "name": "stdout",
     "output_type": "stream",
     "text": [
      "<class 'torch.Tensor'> <class 'torch.Tensor'>\n",
      "tensor([2.8460e+01, 3.4200e+00, 4.8600e+00, 3.1200e+01, 2.5400e+02, 5.6000e+00,\n",
      "        6.1200e+00, 5.6000e-01, 4.5800e+00, 1.1280e+01, 2.0800e+00, 7.8400e+00,\n",
      "        2.1300e+03])\n",
      "tensor(1.)\n"
     ]
    }
   ],
   "source": [
    "#Applying a composed transform\n",
    "\n",
    "composed=torchvision.transforms.Compose([ToTensor(),MultTransform(2)])\n",
    "\n",
    "dataset=WDataset('wine.csv',transform=composed)\n",
    "firstdata=dataset[0]\n",
    "\n",
    "features,labels=firstdata\n",
    "print(type(features),type(labels))\n",
    "print(features)\n",
    "print(labels)\n"
   ]
  },
  {
   "cell_type": "markdown",
   "metadata": {},
   "source": [
    "Loss Evaluation: Softmax<br/>\n",
    "<img src=\"images/softmax.png\" width=\"250\" height=\"180\"> <br/>\n",
    "Softmax Applies the exponential function to each element and normalizes by the sum of exponentials of all element. It squashes the output to be within  0 and 1 and hence we get probability values."
   ]
  },
  {
   "cell_type": "code",
   "execution_count": 4,
   "metadata": {},
   "outputs": [
    {
     "name": "stdout",
     "output_type": "stream",
     "text": [
      "Softmax Outputs: [0.05083836 0.11314284 0.8360188 ]\n"
     ]
    }
   ],
   "source": [
    "def softmax(x):\n",
    "    return np.exp(x)/np.sum(np.exp(x),axis=0)\n",
    "\n",
    "x=np.array([0.2,1.0,3.0])\n",
    "y=softmax(x)\n",
    "print(\"Softmax Outputs:\", y)"
   ]
  },
  {
   "cell_type": "markdown",
   "metadata": {},
   "source": [
    "<h2>Cross Entropy Loss</h2><br/>\n",
    "<img src=\"images/loss.png\" height=100 width=300>"
   ]
  },
  {
   "cell_type": "code",
   "execution_count": 5,
   "metadata": {},
   "outputs": [],
   "source": [
    "#Cross Entropy using numpy\n",
    "def cross_entropy(actual,predicted):\n",
    "    loss=-np.sum(actual*np.log(predicted))\n",
    "    return loss"
   ]
  },
  {
   "cell_type": "code",
   "execution_count": 6,
   "metadata": {},
   "outputs": [
    {
     "name": "stdout",
     "output_type": "stream",
     "text": [
      "Predicted Bad Loss: 1.2039728043259361\n",
      "Predicted good Loss: 0.2231435513142097\n"
     ]
    }
   ],
   "source": [
    "Y=np.array([1,0,0])  # one hot encoded label\n",
    "\n",
    "Y_predicted_bad=np.array([0.3,0.4,0.3])\n",
    "Y_predicted_good=np.array([0.8,0.1,0.1])\n",
    "\n",
    "loss_evaluate=cross_entropy(Y,Y_predicted_bad)\n",
    "print(\"Predicted Bad Loss:\",loss_evaluate)\n",
    "\n",
    "loss_evaluate=cross_entropy(Y,Y_predicted_good)\n",
    "print(\"Predicted good Loss:\",loss_evaluate)\n"
   ]
  },
  {
   "cell_type": "code",
   "execution_count": 7,
   "metadata": {},
   "outputs": [
    {
     "name": "stdout",
     "output_type": "stream",
     "text": [
      "Loss evaluate bad: 1.840616226196289\n",
      "Loss evaluate good 0.4170299470424652\n",
      "Predictions Bad: 1\n",
      "Predictions Good 0\n"
     ]
    }
   ],
   "source": [
    "#Pytorch crossentropy.\n",
    "#Warning: The cross entropy loss applies nn.logSoftmax + nn.NLLLoss(Negative log likelihood)\n",
    "#--> No Softmax in last layer.\n",
    "#Y has class labels,Not one-hot!\n",
    "#Y_pred has raw scores(logits.), no Softmax\n",
    "import torch.nn as nn\n",
    "loss=nn.CrossEntropyLoss()\n",
    "Y=torch.tensor([0])\n",
    "Y_pred_good=torch.tensor([[2.0,1.0,0.1]]) #As softmax is not applied so no probability value\n",
    "Y_pred_bad=torch.tensor([[0.5,2.0,0.3]])\n",
    "\n",
    "loss_evaluate=loss(Y_pred_bad,Y)\n",
    "print(\"Loss evaluate bad:\",loss_evaluate.item())\n",
    "loss_evaluate=loss(Y_pred_good,Y)\n",
    "print(\"Loss evaluate good\",loss_evaluate.item())\n",
    "\n",
    "#To get the actual predictions. Note there are 3 classes\n",
    "\n",
    "_,predictions1=torch.max(Y_pred_bad,1)\n",
    "_,predictions2=torch.max(Y_pred_good,1)\n",
    "\n",
    "print(\"Predictions Bad:\",predictions1.item())\n",
    "print(\"Predictions Good\",predictions2.item()) #It is actually 0 class"
   ]
  },
  {
   "cell_type": "code",
   "execution_count": 8,
   "metadata": {},
   "outputs": [
    {
     "name": "stdout",
     "output_type": "stream",
     "text": [
      "Loss evaluate bad: 1.0977113246917725\n",
      "Loss evaluate good 0.49291515350341797\n",
      "Predictions Bad: tensor([1, 0, 1])\n",
      "Predictions Good tensor([2, 0, 1])\n"
     ]
    }
   ],
   "source": [
    "#Loss in Pytorch allows for multiple samples instead of one. Lets try, We will put multiple values in Y \n",
    "\n",
    "\n",
    "import torch.nn as nn\n",
    "loss=nn.CrossEntropyLoss()\n",
    "Y=torch.tensor([2,0,1])\n",
    "\n",
    "#Predictions must be n_samples x n_classess\n",
    "Y_pred_good=torch.tensor([[1.0,1.0,2.1],[2.0,1.0,0.1],[1.0,2.0,1.0]]) #As softmax is not applied so no probability value\n",
    "Y_pred_bad=torch.tensor([[0.5,2.0,0.3],[0.5,0.1,0.3],[0.5,2.0,0.3]])\n",
    "\n",
    "loss_evaluate=loss(Y_pred_bad,Y)\n",
    "print(\"Loss evaluate bad:\",loss_evaluate.item())\n",
    "loss_evaluate=loss(Y_pred_good,Y)\n",
    "print(\"Loss evaluate good\",loss_evaluate.item())\n",
    "\n",
    "#To get the actual predictions. Note there are 3 classes\n",
    "\n",
    "_,predictions1=torch.max(Y_pred_bad,1)\n",
    "_,predictions2=torch.max(Y_pred_good,1)\n",
    "\n",
    "print(\"Predictions Bad:\",predictions1)\n",
    "print(\"Predictions Good\",predictions2) "
   ]
  },
  {
   "cell_type": "markdown",
   "metadata": {},
   "source": [
    "More Activation Functions.\n",
    "The work of activation function is to apply a non-linear transformation and decide whether a neuron should be activated or not. <br/>\n",
    "After each layer we use the activation functions.<br/>\n",
    "Popular Activation functions are: <br/>\n",
    "a. TanH <br/>\n",
    "b. Sigmoid <br/>\n",
    "c. ReLU <br/>\n",
    "d. Leaky ReLU <br/>\n",
    "e. Softmax <br/>\n",
    "f. Step Function<br/>\n",
    "<img src=\"images/activation_function.png\" height=450 width=650>"
   ]
  },
  {
   "cell_type": "markdown",
   "metadata": {},
   "source": [
    "Neural Network with Sigmoid is howcased here (nn.Sigmoid)<br/>\n",
    "We can have nn.Softmax, nn.tanH, nn.LeakyReLU <br/> . Same is present in torch api with torch.Softmax etc."
   ]
  },
  {
   "cell_type": "code",
   "execution_count": null,
   "metadata": {},
   "outputs": [],
   "source": [
    "class MyNeuralNetwork(nn.Module):\n",
    "    def __init__(self,input_size,hidden_size,num_classess):\n",
    "        super(MyNeuralNetwork, self).__init__()\n",
    "        self.linear1=nn.Linear(input_size,hidden_size)\n",
    "        self.relu=nn.ReLU()    # we can \n",
    "        self.sigmoid=nn.Sigmoid()\n",
    "        self.linear2=nn.Linear(hidden_size,num_classess)\n",
    "\n",
    "    def forward(self,x):\n",
    "        out= self.linear1(x)\n",
    "        out=self.relu(out)\n",
    "        out=self.linear2(out)\n",
    "        out=nn.sigmoid(out)\n",
    "        return out\n",
    "    \n",
    "\n",
    "model=MyNeuralNetwork(input_size=28*28,hidden_size=5,num_classess=3)\n",
    "criterion=nn.BCELoss() #This automatically applies softmax activation\n"
   ]
  },
  {
   "cell_type": "markdown",
   "metadata": {},
   "source": [
    "<h2> Feedforward Neural Network<h2>"
   ]
  },
  {
   "cell_type": "code",
   "execution_count": 11,
   "metadata": {},
   "outputs": [
    {
     "name": "stdout",
     "output_type": "stream",
     "text": [
      "cpu\n"
     ]
    }
   ],
   "source": [
    "import torch\n",
    "import torchvision\n",
    "import torch.nn as nn\n",
    "import torchvision .transforms as transforms\n",
    "import matplotlib.pyplot as plt\n",
    "\n",
    "device= torch.device('cuda' if torch.cuda.is_available() else 'cpu')\n"
   ]
  },
  {
   "cell_type": "code",
   "execution_count": 15,
   "metadata": {},
   "outputs": [],
   "source": [
    "input_size=784 #28*28\n",
    "hidden_size=100\n",
    "n_classess=10\n",
    "n_epochs=2\n",
    "batch_size=100\n",
    "learning_rate=0.001\n",
    "\n",
    "#Importing the MNIST data\n",
    "train_dataset=torchvision.datasets.MNIST(root='./data',train=True,transform=transforms.ToTensor(),download=True)\n",
    "test_dataset=torchvision.datasets.MNIST(root='./data',train=False,transform=transforms.ToTensor(),download=True)\n",
    "train_loader=torch.utils.data.DataLoader(dataset=train_dataset,batch_size=batch_size,shuffle=True)\n",
    "test_loader=torch.utils.data.DataLoader(dataset=test_dataset,batch_size=batch_size,shuffle=True)"
   ]
  },
  {
   "cell_type": "code",
   "execution_count": 25,
   "metadata": {},
   "outputs": [
    {
     "name": "stdout",
     "output_type": "stream",
     "text": [
      "torch.Size([100, 1, 28, 28]) torch.Size([100])\n"
     ]
    }
   ],
   "source": [
    "examples= iter(train_loader)\n",
    "samples,labels=next(examples)\n",
    "print(samples.shape,labels.shape)  # As the batch size is 100 so 100, then 1 means only one channel and the image size is 28x28"
   ]
  },
  {
   "cell_type": "code",
   "execution_count": 28,
   "metadata": {},
   "outputs": [
    {
     "data": {
      "image/png": "[encoded data removed]",
      "text/plain": [
       "<Figure size 640x480 with 1 Axes>"
      ]
     },
     "metadata": {},
     "output_type": "display_data"
    },
    {
     "data": {
      "image/png": "[encoded data removed]",
      "text/plain": [
       "<Figure size 640x480 with 1 Axes>"
      ]
     },
     "metadata": {},
     "output_type": "display_data"
    },
    {
     "data": {
      "image/png": "[encoded data removed]",
      "text/plain": [
       "<Figure size 640x480 with 1 Axes>"
      ]
     },
     "metadata": {},
     "output_type": "display_data"
    },
    {
     "data": {
      "image/png": "[encoded data removed]",
      "text/plain": [
       "<Figure size 640x480 with 1 Axes>"
      ]
     },
     "metadata": {},
     "output_type": "display_data"
    },
    {
     "data": {
      "image/png": "[encoded data removed]",
      "text/plain": [
       "<Figure size 640x480 with 1 Axes>"
      ]
     },
     "metadata": {},
     "output_type": "display_data"
    },
    {
     "data": {
      "image/png": "[encoded data removed]",
      "text/plain": [
       "<Figure size 640x480 with 1 Axes>"
      ]
     },
     "metadata": {},
     "output_type": "display_data"
    }
   ],
   "source": [
    "for i in range(6):\n",
    "    plt.subplot(2,3,i+1)\n",
    "    plt.imshow(samples[i][0],cmap='gray')\n",
    "    plt.show()"
   ]
  },
  {
   "cell_type": "code",
   "execution_count": 30,
   "metadata": {},
   "outputs": [],
   "source": [
    "#Defining the neural network\n",
    "class NeuralNet(nn.Module):\n",
    "    def __init__(self, input_size, hidden_size,n_classess):\n",
    "        super(NeuralNet, self).__init__()\n",
    "        self.linear1=nn.Linear(input_size,hidden_size)\n",
    "        self.linear2=nn.Linear(hidden_size,n_classess)\n",
    "        self.relu=nn.ReLU()\n",
    "        \n",
    "    def forward(self,x):\n",
    "        out=self.linear1(x)\n",
    "        out=self.relu(out)\n",
    "        out=self.linear2(out)\n",
    "        return out"
   ]
  },
  {
   "cell_type": "code",
   "execution_count": 38,
   "metadata": {},
   "outputs": [
    {
     "name": "stdout",
     "output_type": "stream",
     "text": [
      "epoch1/2,step100/600,loss=0.3777\n",
      "epoch1/2,step200/600,loss=0.3958\n",
      "epoch1/2,step300/600,loss=0.2248\n",
      "epoch1/2,step400/600,loss=0.2937\n",
      "epoch1/2,step500/600,loss=0.1300\n",
      "epoch1/2,step600/600,loss=0.2698\n",
      "epoch2/2,step100/600,loss=0.0879\n",
      "epoch2/2,step200/600,loss=0.2069\n",
      "epoch2/2,step300/600,loss=0.2759\n",
      "epoch2/2,step400/600,loss=0.1770\n",
      "epoch2/2,step500/600,loss=0.1338\n",
      "epoch2/2,step600/600,loss=0.0989\n",
      "Accuracy is: 0.94\n"
     ]
    }
   ],
   "source": [
    "model=NeuralNet(input_size,hidden_size,n_classess)\n",
    "criterion=nn.CrossEntropyLoss()\n",
    "optimizer=torch.optim.Adam(model.parameters(),lr=learning_rate)\n",
    "\n",
    "#defining the training loop\n",
    "total_steps=len(train_loader)\n",
    "\n",
    "#Defining the training loop.\n",
    "for epoch in range(n_epochs):\n",
    "    for i,(images,labels) in enumerate(train_loader):\n",
    "        #reshaping the images first. The images shape is 100*1*28*28\n",
    "        #As we are using ANN so it needs to be reshaped to 100*784\n",
    "        images=images.reshape(-1,28*28).to(device)\n",
    "        labels=labels.to(device)\n",
    "\n",
    "        #Performing forward pass operation\n",
    "        y_pred=model.forward(images)\n",
    "        loss=criterion(y_pred,labels)\n",
    "\n",
    "        #Performing backward pass- Which is nothing but the weights correction.\n",
    "        optimizer.zero_grad()  #puting the gradient to zero so that it does adds up\n",
    "        loss.backward()         #Performing backward weights correction.\n",
    "        optimizer.step()        #updating the weights in the neural network.\n",
    "\n",
    "        if(i+1)% 100 ==0:   #printing every 100th step\n",
    "            print(f'epoch{epoch+1}/{n_epochs},step{i+1}/{total_steps},loss={loss.item():.4f}')\n",
    "\n",
    "#Defining testing and evaluation\n",
    "\n",
    "with torch.no_grad():\n",
    "    n_correct=0\n",
    "    n_samples=0\n",
    "    for(images,labels) in test_loader:\n",
    "        images=images.reshape(-1,28*28).to(device)\n",
    "        labels=labels.to(device)\n",
    "        outputs=model.forward(images)\n",
    "        _, predictions=torch.max(outputs,1)\n",
    "        n_samples+=labels.shape[0]\n",
    "        n_correct=(predictions==labels).sum().item()\n",
    "\n",
    "    acc=100.0*n_correct/n_samples\n",
    "    print(\"Accuracy is:\",acc)"
   ]
  },
  {
   "cell_type": "markdown",
   "metadata": {},
   "source": [
    "<h3>Convolutional Neural Network</h3><br/>\n",
    "<img src='images/conv.png' height=400 width=750>"
   ]
  },
  {
   "cell_type": "markdown",
   "metadata": {},
   "source": [
    "Predictions on CIFAR Dataset <br/>\n",
    "https://www.cs.toronto.edu/~kriz/cifar.html"
   ]
  },
  {
   "cell_type": "code",
   "execution_count": null,
   "metadata": {},
   "outputs": [],
   "source": [
    "import torch\n",
    "import torchvision\n",
    "import torch.nn as nn\n",
    "import torch.nn.functional as F\n",
    "import torchvision .transforms as transforms\n",
    "import matplotlib.pyplot as plt\n",
    "import numpy as np\n",
    "\n",
    "device= torch.device('cuda' if torch.cuda.is_available() else 'cpu')\n",
    "\n",
    "\n",
    "n_epochs=4\n",
    "batch_size=4\n",
    "learning_rate=0.001\n",
    "\n",
    "\n",
    "#\n",
    "#Importing the MNIST data\n",
    "train_dataset=torchvision.datasets.MNIST(root='./data',train=True,transform=transforms.ToTensor(),download=True)\n",
    "test_dataset=torchvision.datasets.MNIST(root='./data',train=False,transform=transforms.ToTensor(),download=True)\n",
    "train_loader=torch.utils.data.DataLoader(dataset=train_dataset,batch_size=batch_size,shuffle=True)\n",
    "test_loader=torch.utils.data.DataLoader(dataset=test_dataset,batch_size=batch_size,shuffle=True)"
   ]
  }
 ],
 "metadata": {
  "kernelspec": {
   "display_name": "Python 3",
   "language": "python",
   "name": "python3"
  },
  "language_info": {
   "codemirror_mode": {
    "name": "ipython",
    "version": 3
   },
   "file_extension": ".py",
   "mimetype": "text/x-python",
   "name": "python",
   "nbconvert_exporter": "python",
   "pygments_lexer": "ipython3",
   "version": "3.10.0"
  }
 },
 "nbformat": 4,
 "nbformat_minor": 2
}
